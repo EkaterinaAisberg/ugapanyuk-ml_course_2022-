{
 "cells": [
  {
   "cell_type": "markdown",
   "metadata": {},
   "source": [
    "# Семинар по курсу \"Методы анализа данных\"\n",
    "\n",
    "## Векторизованное представление и обработка текстов. Часть 2.\n"
   ]
  },
  {
   "cell_type": "markdown",
   "metadata": {},
   "source": [
    "### 1) fasttext\n",
    "\n",
    "Использование библиотеки [fasttext](https://fasttext.cc/docs/en/supervised-tutorial.html) для векторизованного представления текстов."
   ]
  },
  {
   "cell_type": "markdown",
   "metadata": {},
   "source": [
    "### 2) BERT\n",
    "\n",
    "- [Пример Q&A системы на основе BERT.](https://www.pragnakalp.com/case-study/question-answering-system-in-python-using-bert-nlp/)\n",
    "- [Extending Google-BERT as Question and Answering model and Chatbot.](https://github.com/Nagakiran1/Extending-Google-BERT-as-Question-and-Answering-model-and-Chatbot)\n",
    "- [Question Answering with a Fine-Tuned BERT.](https://mccormickml.com/2020/03/10/question-answering-with-a-fine-tuned-BERT/)\n",
    "- [NLP Tutorial: Creating Question Answering System using BERT + SQuAD on Colab TPU.](https://hackernoon.com/nlp-tutorial-creating-question-answering-system-using-bert-squad-on-colab-tpu-1utp3352)\n",
    "- [Question Answering with BERT, XLNET, XLM, and DistilBERT using Simple Transformers.](https://towardsdatascience.com/question-answering-with-bert-xlnet-xlm-and-distilbert-using-simple-transformers-4d8785ee762a)\n"
   ]
  },
  {
   "cell_type": "code",
   "execution_count": null,
   "metadata": {},
   "outputs": [],
   "source": []
  }
 ],
 "metadata": {
  "kernelspec": {
   "display_name": "Python 3",
   "language": "python",
   "name": "python3"
  },
  "language_info": {
   "codemirror_mode": {
    "name": "ipython",
    "version": 3
   },
   "file_extension": ".py",
   "mimetype": "text/x-python",
   "name": "python",
   "nbconvert_exporter": "python",
   "pygments_lexer": "ipython3",
   "version": "3.7.6"
  }
 },
 "nbformat": 4,
 "nbformat_minor": 4
}
